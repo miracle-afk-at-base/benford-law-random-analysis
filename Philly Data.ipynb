{
 "cells": [
  {
   "cell_type": "code",
   "execution_count": 1,
   "metadata": {},
   "outputs": [],
   "source": [
    "%matplotlib inline\n",
    "import numpy as np\n",
    "import pandas as pd\n",
    "from scipy.stats import chisquare\n",
    "from math import log10\n"
   ]
  },
  {
   "cell_type": "code",
   "execution_count": 2,
   "metadata": {},
   "outputs": [],
   "source": [
    "# do not run this if it is not necessary, this is to get data from philly website\n",
    "from selenium import webdriver\n",
    "from selenium.webdriver.common.keys import Keys\n",
    "import requests\n",
    "from bs4 import BeautifulSoup as bs\n",
    "import itertools\n",
    "import time\n",
    "\n",
    "def get_data():\n",
    "    driver = webdriver.Chrome()\n",
    "    driver.implicitly_wait(30)\n",
    "    driver.maximize_window()\n",
    "    driver.get(\"https://results.philadelphiavotes.com/ResultsSW.aspx?type=FED&map=CTY\")\n",
    "    button = driver.find_elements_by_xpath('/html/body/form/div[4]/div[8]/input[2]')\n",
    "    button[0].click()\n",
    "\n",
    "    time.sleep(10)\n",
    "    \n",
    "    res_all = []\n",
    "    keep_adding = True\n",
    "\n",
    "    while keep_adding:\n",
    "        results = driver.find_elements_by_id('Datawrapper2')\n",
    "        results = results[0]\n",
    "        soup = bs(results.get_attribute('innerHTML'), 'html.parser')\n",
    "        all_titles = [x.text.strip() for x in soup.findAll(\"div\", {\"class\": \"precinct-results-orangebox-title\"})]\n",
    "        all_titles = list(itertools.chain.from_iterable(itertools.repeat(x, 4) for x in all_titles))\n",
    "        all_challengers = [x.findAll('h1')[0].text.strip() for x in soup.findAll(\"div\", {\"class\": \"col-precinct-results precinct-results-databox1\"})]\n",
    "        all_results = [x.findAll('h1')[0].text.strip() for x in soup.findAll(\"div\", {\"class\": \"col-precinct-results precinct-results-databox7\"})]\n",
    "        res = pd.DataFrame({\n",
    "            'district': all_titles,\n",
    "            'candidate': all_challengers,\n",
    "            'votes': all_results\n",
    "        })\n",
    "        res_all.append(res)\n",
    "\n",
    "        pager2 = driver.find_element_by_id('Pager2')\n",
    "        all_next_buttons = pager2.find_elements_by_tag_name('a')\n",
    "        final_button_text = all_next_buttons[-1].text\n",
    "        if final_button_text == 'Next':\n",
    "            next_button = all_next_buttons[-1]\n",
    "            time.sleep(1)\n",
    "            next_button.click()\n",
    "        else:\n",
    "            keep_adding = False\n",
    "    df_results = pd.concat(res_all)\n",
    "    return df_results\n",
    "\n",
    "# do not run this if it is not necessary, this is to get data from philly website\n",
    "# df_results = get_data()\n",
    "# df_results.to_csv('data_philly.csv')"
   ]
  },
  {
   "cell_type": "code",
   "execution_count": 3,
   "metadata": {},
   "outputs": [],
   "source": [
    "df_results = pd.read_csv('data_philly.csv')"
   ]
  },
  {
   "cell_type": "code",
   "execution_count": 4,
   "metadata": {},
   "outputs": [],
   "source": [
    "df_results = df_results.pivot('district', 'candidate', 'votes')\n",
    "for col in df_results.columns:\n",
    "    df_results[col] = df_results[col].str.replace(',', '').astype(int)\n",
    "df_results['total'] = df_results.sum(axis=1)\n",
    "cols = ['DONALD J TRUMP AND MICHAEL R PENCE', 'JOSEPH R BIDEN AND KAMALA D HARRIS']\n",
    "df_results = df_results[cols]\n",
    "df_results.columns = ['republican', 'democrat']\n",
    "df_results = df_results.loc[(df_results >= 1).all(axis=1)]"
   ]
  },
  {
   "cell_type": "code",
   "execution_count": 5,
   "metadata": {},
   "outputs": [],
   "source": [
    "first_digits = df_results.copy()\n",
    "for col in first_digits.columns:\n",
    "    first_digits[col] = first_digits.query(f'{col} >= 1')[col].astype(str).str[:1]\n",
    "first_digits = first_digits.astype(int)"
   ]
  },
  {
   "cell_type": "code",
   "execution_count": 6,
   "metadata": {},
   "outputs": [],
   "source": [
    "df_compare = pd.DataFrame({'republican': first_digits['republican'].value_counts(),\n",
    "                           'democrat': first_digits['democrat'].value_counts()})\n",
    "df_compare = df_compare.loc[df_compare.index > 0]\n",
    "df_compare['benford_democrat'] = np.log10(1 + 1 / pd.Series(data=range(1,100), index=range(1,100))) * df_compare['democrat'].sum()\n",
    "df_compare['benford_republican'] = np.log10(1 + 1 / pd.Series(data=range(1,100), index=range(1,100))) * df_compare['republican'].sum()\n",
    "df_compare = df_compare.fillna(0)"
   ]
  },
  {
   "cell_type": "code",
   "execution_count": 7,
   "metadata": {},
   "outputs": [
    {
     "data": {
      "text/html": [
       "<div>\n",
       "<style scoped>\n",
       "    .dataframe tbody tr th:only-of-type {\n",
       "        vertical-align: middle;\n",
       "    }\n",
       "\n",
       "    .dataframe tbody tr th {\n",
       "        vertical-align: top;\n",
       "    }\n",
       "\n",
       "    .dataframe thead th {\n",
       "        text-align: right;\n",
       "    }\n",
       "</style>\n",
       "<table border=\"1\" class=\"dataframe\">\n",
       "  <thead>\n",
       "    <tr style=\"text-align: right;\">\n",
       "      <th></th>\n",
       "      <th>republican</th>\n",
       "      <th>democrat</th>\n",
       "      <th>benford_democrat</th>\n",
       "      <th>benford_republican</th>\n",
       "    </tr>\n",
       "  </thead>\n",
       "  <tbody>\n",
       "    <tr>\n",
       "      <th>1</th>\n",
       "      <td>538</td>\n",
       "      <td>287</td>\n",
       "      <td>511.750993</td>\n",
       "      <td>511.750993</td>\n",
       "    </tr>\n",
       "    <tr>\n",
       "      <th>2</th>\n",
       "      <td>281</td>\n",
       "      <td>499</td>\n",
       "      <td>299.355140</td>\n",
       "      <td>299.355140</td>\n",
       "    </tr>\n",
       "    <tr>\n",
       "      <th>3</th>\n",
       "      <td>180</td>\n",
       "      <td>456</td>\n",
       "      <td>212.395852</td>\n",
       "      <td>212.395852</td>\n",
       "    </tr>\n",
       "    <tr>\n",
       "      <th>4</th>\n",
       "      <td>130</td>\n",
       "      <td>277</td>\n",
       "      <td>164.747022</td>\n",
       "      <td>164.747022</td>\n",
       "    </tr>\n",
       "    <tr>\n",
       "      <th>5</th>\n",
       "      <td>115</td>\n",
       "      <td>111</td>\n",
       "      <td>134.608118</td>\n",
       "      <td>134.608118</td>\n",
       "    </tr>\n",
       "    <tr>\n",
       "      <th>6</th>\n",
       "      <td>122</td>\n",
       "      <td>39</td>\n",
       "      <td>113.809542</td>\n",
       "      <td>113.809542</td>\n",
       "    </tr>\n",
       "    <tr>\n",
       "      <th>7</th>\n",
       "      <td>108</td>\n",
       "      <td>18</td>\n",
       "      <td>98.586310</td>\n",
       "      <td>98.586310</td>\n",
       "    </tr>\n",
       "    <tr>\n",
       "      <th>8</th>\n",
       "      <td>127</td>\n",
       "      <td>6</td>\n",
       "      <td>86.959288</td>\n",
       "      <td>86.959288</td>\n",
       "    </tr>\n",
       "    <tr>\n",
       "      <th>9</th>\n",
       "      <td>99</td>\n",
       "      <td>7</td>\n",
       "      <td>77.787734</td>\n",
       "      <td>77.787734</td>\n",
       "    </tr>\n",
       "  </tbody>\n",
       "</table>\n",
       "</div>"
      ],
      "text/plain": [
       "   republican  democrat  benford_democrat  benford_republican\n",
       "1         538       287        511.750993          511.750993\n",
       "2         281       499        299.355140          299.355140\n",
       "3         180       456        212.395852          212.395852\n",
       "4         130       277        164.747022          164.747022\n",
       "5         115       111        134.608118          134.608118\n",
       "6         122        39        113.809542          113.809542\n",
       "7         108        18         98.586310           98.586310\n",
       "8         127         6         86.959288           86.959288\n",
       "9          99         7         77.787734           77.787734"
      ]
     },
     "execution_count": 7,
     "metadata": {},
     "output_type": "execute_result"
    }
   ],
   "source": [
    "df_compare"
   ]
  },
  {
   "cell_type": "code",
   "execution_count": 8,
   "metadata": {},
   "outputs": [],
   "source": [
    "chi_democrat, pval_democrat = chisquare(df_compare['democrat'], df_compare['benford_democrat'])\n",
    "chi_republican, pval_republican = chisquare(df_compare['republican'], df_compare['benford_republican'])"
   ]
  },
  {
   "cell_type": "code",
   "execution_count": 9,
   "metadata": {},
   "outputs": [
    {
     "data": {
      "text/plain": [
       "(846.7141777024283, 1.7514704623707273e-177)"
      ]
     },
     "execution_count": 9,
     "metadata": {},
     "output_type": "execute_result"
    }
   ],
   "source": [
    "chi_democrat, pval_democrat"
   ]
  },
  {
   "cell_type": "code",
   "execution_count": 10,
   "metadata": {},
   "outputs": [
    {
     "data": {
      "text/plain": [
       "(43.30753019813052, 7.687141792970334e-07)"
      ]
     },
     "execution_count": 10,
     "metadata": {},
     "output_type": "execute_result"
    }
   ],
   "source": [
    "chi_republican, pval_republican"
   ]
  },
  {
   "cell_type": "code",
   "execution_count": 11,
   "metadata": {},
   "outputs": [],
   "source": [
    "# draw graph\n",
    "df_graph = df_compare.copy()\n",
    "df_graph = df_graph / df_graph.sum()\n",
    "df_graph = df_graph.rename({'benford_republican': 'benford'}, axis=1).drop(columns='benford_democrat', axis=1)"
   ]
  },
  {
   "cell_type": "code",
   "execution_count": 13,
   "metadata": {},
   "outputs": [
    {
     "data": {
      "text/plain": [
       "<matplotlib.axes._subplots.AxesSubplot at 0x23156a30c18>"
      ]
     },
     "execution_count": 13,
     "metadata": {},
     "output_type": "execute_result"
    },
    {
     "data": {
      "image/png": "[encoded data removed]",
      "text/plain": [
       "<Figure size 432x288 with 1 Axes>"
      ]
     },
     "metadata": {
      "needs_background": "light"
     },
     "output_type": "display_data"
    }
   ],
   "source": [
    "df_graph.plot(title='Philadelphia Ward Level First Digit')"
   ]
  },
  {
   "cell_type": "code",
   "execution_count": null,
   "metadata": {},
   "outputs": [],
   "source": []
  }
 ],
 "metadata": {
  "kernelspec": {
   "display_name": "Python 3",
   "language": "python",
   "name": "python3"
  },
  "language_info": {
   "codemirror_mode": {
    "name": "ipython",
    "version": 3
   },
   "file_extension": ".py",
   "mimetype": "text/x-python",
   "name": "python",
   "nbconvert_exporter": "python",
   "pygments_lexer": "ipython3",
   "version": "3.7.3"
  }
 },
 "nbformat": 4,
 "nbformat_minor": 2
}
